{
 "cells": [
  {
   "cell_type": "code",
   "execution_count": null,
   "id": "57a4097b",
   "metadata": {},
   "outputs": [],
   "source": [
    "#house prices regression"
   ]
  },
  {
   "cell_type": "code",
   "execution_count": 2,
   "id": "bb3a61d7",
   "metadata": {},
   "outputs": [],
   "source": [
    "#librarys import\n",
    "import pandas as pd"
   ]
  },
  {
   "cell_type": "code",
   "execution_count": 3,
   "id": "4320dcec",
   "metadata": {},
   "outputs": [],
   "source": [
    "train=pd.read_csv('train.csv')"
   ]
  },
  {
   "cell_type": "code",
   "execution_count": null,
   "id": "19c29167",
   "metadata": {},
   "outputs": [],
   "source": []
  }
 ],
 "metadata": {
  "kernelspec": {
   "display_name": "Python 3 (ipykernel)",
   "language": "python",
   "name": "python3"
  },
  "language_info": {
   "codemirror_mode": {
    "name": "ipython",
    "version": 3
   },
   "file_extension": ".py",
   "mimetype": "text/x-python",
   "name": "python",
   "nbconvert_exporter": "python",
   "pygments_lexer": "ipython3",
   "version": "3.11.4"
  }
 },
 "nbformat": 4,
 "nbformat_minor": 5
}
