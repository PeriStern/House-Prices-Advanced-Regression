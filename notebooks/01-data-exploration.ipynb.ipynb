{
 "cells": [
  {
   "cell_type": "code",
   "execution_count": null,
   "id": "ec512e42-f9bd-4af4-be30-ea41227ce0f0",
   "metadata": {},
   "outputs": [],
   "source": [
    "import pandas as pd\n",
    "import matplotlib.pyplot as plt\n",
    "import seaborn as sns"
   ]
  },
  {
   "cell_type": "code",
   "execution_count": null,
   "id": "54368781-9244-4415-9dad-5563aa17879f",
   "metadata": {},
   "outputs": [],
   "source": [
    "#load the data\n",
    "train = pd.read_csv('../data/raw/train.csv')"
   ]
  },
  {
   "cell_type": "code",
   "execution_count": null,
   "id": "ea4256f4-820d-419d-8db2-f33cad8c9b70",
   "metadata": {},
   "outputs": [],
   "source": [
    "#explanitory analysis (EDA)"
   ]
  },
  {
   "cell_type": "code",
   "execution_count": null,
   "id": "2a1eb6e6-4b36-4b58-81fe-8f3f1b258115",
   "metadata": {},
   "outputs": [],
   "source": [
    "train.info()"
   ]
  },
  {
   "cell_type": "code",
   "execution_count": null,
   "id": "aa86eb96-8f51-46a6-b3fe-49ffba55fff1",
   "metadata": {},
   "outputs": [],
   "source": [
    "print(train.head())"
   ]
  },
  {
   "cell_type": "code",
   "execution_count": null,
   "id": "2ad7532e-627b-4633-9b66-45fe0f4f6ec9",
   "metadata": {},
   "outputs": [],
   "source": [
    "train.shape"
   ]
  },
  {
   "cell_type": "code",
   "execution_count": null,
   "id": "65abe4ae-684d-4dcb-852f-b74fae320be2",
   "metadata": {},
   "outputs": [],
   "source": [
    "#Display unique counts per column with formatted output\n",
    "train.nunique().to_frame().rename(columns={0: 'Unique Values'}).style.format({'Unique Values': '{:,.0f}'})"
   ]
  },
  {
   "cell_type": "code",
   "execution_count": null,
   "id": "7b7217e0-a2d6-4382-bc63-e75bcf0239fc",
   "metadata": {},
   "outputs": [],
   "source": [
    "# looking at the response variable. The data is positivly sqewed. Maybe there are some outliers. \n",
    "plt.hist(train['SalePrice'])\n",
    "plt.show()\n",
    "train['SalePrice'].min()"
   ]
  },
  {
   "cell_type": "code",
   "execution_count": null,
   "id": "506baba9-21ff-40e7-9595-a0481888074b",
   "metadata": {},
   "outputs": [],
   "source": [
    "#explore the correlation of each vairable to the sale price\n",
    "\n",
    "# Identify numerical columns\n",
    "numerical_columns = train.select_dtypes(include=[\"int64\", \"float64\"]).columns\n",
    "\n",
    "# Plot distribution of each numerical feature\n",
    "plt.figure(figsize=(14, len(numerical_columns) * 3))\n",
    "for idx, feature in enumerate(numerical_columns, 1):\n",
    "    plt.subplot(len(numerical_columns), 2, idx)\n",
    "    plt.scatter( train[feature],train['SalePrice'])\n",
    "    plt.title(f\"{feature}\")\n",
    "\n",
    "# Adjust layout and show plots\n",
    "plt.tight_layout()\n",
    "plt.show()\n",
    "\n",
    "#Thigs that Positivily affect the sale price: \n",
    "#TotalBsmtSF, 1stFlrSF, 2ndFlrSF, GrLivArea, FullBath, TotRmsAbvGrd, GarageYrBlt, GarageArea\n",
    "\n",
    "#Things that have no effect (or too few information)- consider dropping these features. \n",
    "#MiscVal, PoolArea"
   ]
  },
  {
   "cell_type": "code",
   "execution_count": null,
   "id": "bb0c1dc4-3b4e-4ad8-9e43-988fa90cf17b",
   "metadata": {},
   "outputs": [],
   "source": [
    "#exploring the sqewness of the vairables\n",
    "\n",
    "# Plot distribution of each numerical feature\n",
    "plt.figure(figsize=(14, len(numerical_columns) * 3))\n",
    "for idx, feature in enumerate(numerical_columns, 1):\n",
    "    plt.subplot(len(numerical_columns), 2, idx)\n",
    "    sns.histplot(train[feature], kde=True)\n",
    "    plt.title(f\"{feature} | Skewness: {round(train[feature].skew(), 2)}\")\n",
    "\n",
    "# Adjust layout and show plots\n",
    "plt.tight_layout()\n",
    "plt.show()"
   ]
  },
  {
   "cell_type": "code",
   "execution_count": null,
   "id": "714aa04f-d960-4bcf-a816-9998a92eb996",
   "metadata": {},
   "outputs": [],
   "source": [
    "#explore non numerical features:\n",
    "# Identify non-numberical columns\n",
    "non_numerical_columns = train.select_dtypes(include=['object']).columns\n",
    "\n",
    "# Plot distribution of each numerical feature\n",
    "plt.figure(figsize=(14, len(non_numerical_columns) * 3))\n",
    "for idx, feature in enumerate(non_numerical_columns, 1):\n",
    "    plt.subplot(len(non_numerical_columns), 2, idx)\n",
    "    sns.boxplot(x=train[feature], y=train['SalePrice'])\n",
    "    plt.title(f\"{feature}\")\n",
    "\n",
    "# Adjust layout and show plots\n",
    "plt.tight_layout()\n",
    "plt.show()\n",
    "\n",
    "#NA has been left out. Can we find a way to keep it in?\n",
    "\n",
    "#Zone RL is most expensive, Street Pave is most expensive, paved alleys are more expensive, 2 story, \n",
    "#exc qualatiy material of external,basement, heating and air con, good kitchen, fireplace,  "
   ]
  },
  {
   "cell_type": "code",
   "execution_count": null,
   "id": "8f65ab35-c9e7-4621-b907-359536935e8a",
   "metadata": {},
   "outputs": [],
   "source": [
    "#Explore category cardinality. Most are low so one hot encoding is ok.\n",
    "non_numerical_columns = train.select_dtypes(include=['object']).nunique()\n",
    "non_numerical_columns[non_numerical_columns > 10]\n"
   ]
  }
 ],
 "metadata": {
  "kernelspec": {
   "display_name": "Python 3 (ipykernel)",
   "language": "python",
   "name": "python3"
  },
  "language_info": {
   "codemirror_mode": {
    "name": "ipython",
    "version": 3
   },
   "file_extension": ".py",
   "mimetype": "text/x-python",
   "name": "python",
   "nbconvert_exporter": "python",
   "pygments_lexer": "ipython3",
   "version": "3.11.8"
  }
 },
 "nbformat": 4,
 "nbformat_minor": 5
}
