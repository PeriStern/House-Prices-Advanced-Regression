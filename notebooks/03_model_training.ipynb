{
 "cells": [
  {
   "cell_type": "code",
   "execution_count": null,
   "id": "613f06a2-a6a0-4d42-b1bb-1bc8c30fa45d",
   "metadata": {},
   "outputs": [],
   "source": [
    "import pandas as pd\n",
    "from sklearn import datasets, linear_model, metrics\n",
    "import numpy as np\n",
    "from sklearn.metrics import mean_squared_error\n",
    "import tensorflow as tf\n",
    "import tensorflow_decision_forests as tfdf\n",
    "from sklearn.ensemble import RandomForestRegressor\n",
    "import matplotlib.pyplot as plt"
   ]
  },
  {
   "cell_type": "code",
   "execution_count": null,
   "id": "e2f35dbd-1ce3-4f5d-be1b-90d2f41fc2f9",
   "metadata": {},
   "outputs": [],
   "source": [
    "train = pd.read_csv('../data/processed/train_data.csv', keep_default_na=False)\n",
    "test = pd.read_csv('../data/processed/test_data.csv', keep_default_na=False)"
   ]
  },
  {
   "cell_type": "code",
   "execution_count": null,
   "id": "52a0a648-54c4-4f1b-8481-1c716b6896c3",
   "metadata": {},
   "outputs": [],
   "source": [
    "#split input and output\n",
    "X_train=train.drop(['SalePrice'], axis=1)\n",
    "y_train= train['SalePrice']\n",
    "\n",
    "X_test=test.drop(['SalePrice'], axis=1)\n",
    "y_test= test['SalePrice']"
   ]
  },
  {
   "cell_type": "code",
   "execution_count": null,
   "id": "308c1056-ff4e-4332-bdec-34575a6ee19d",
   "metadata": {},
   "outputs": [],
   "source": [
    "#one hot encoding - convert categorical columns to numerical for linear regression. \n",
    "#there was an error with vanishing columns in test. This fixes it. \n",
    "X_train_one_hot = pd.get_dummies(X_train, drop_first=True) \n",
    "cols = X_train_one_hot.columns.tolist()\n",
    "X_test_one_hot = pd.get_dummies(X_test, drop_first=True) \n",
    "X_test_one_hot = X_test_one_hot.reindex(columns=cols).fillna(0)"
   ]
  },
  {
   "cell_type": "code",
   "execution_count": null,
   "id": "97a14c25-846b-4a08-a161-7291a88e9513",
   "metadata": {},
   "outputs": [],
   "source": [
    "#Linear regression"
   ]
  },
  {
   "cell_type": "code",
   "execution_count": null,
   "id": "70cc16b2-b4d5-4462-ae53-7d132417cc74",
   "metadata": {},
   "outputs": [],
   "source": [
    "#fit_intercept=False is needed as collinearity of one hot encoding, first row has to be dropped. \n",
    "reg = linear_model.LinearRegression(fit_intercept=False)\n",
    "reg.fit(X_train_one_hot, y_train)"
   ]
  },
  {
   "cell_type": "code",
   "execution_count": null,
   "id": "95a11675-5ff1-49a2-8a0c-4c77baea66af",
   "metadata": {},
   "outputs": [],
   "source": [
    "#predict sales price on test set\n",
    "predictions_lm = reg.predict(X_test_one_hot)"
   ]
  },
  {
   "cell_type": "code",
   "execution_count": null,
   "id": "b5aa535a-48bf-45e7-891f-603ed00e0495",
   "metadata": {},
   "outputs": [],
   "source": [
    "#Apply inverse transformation to bring predictions back to the original scale\n",
    "predictions_lm = np.exp(predictions_lm)"
   ]
  },
  {
   "cell_type": "code",
   "execution_count": null,
   "id": "721a57be",
   "metadata": {},
   "outputs": [],
   "source": [
    "#RMSE \n",
    "rmse_lm = np.sqrt(mean_squared_error(np.exp(y_test), predictions_lm))\n",
    "print(f'Root Mean Squared Error for Linear Regression Model: {rmse_lm}')"
   ]
  },
  {
   "cell_type": "code",
   "execution_count": null,
   "id": "b1bfe822-4c3a-44a9-8723-5b7c41a0bc2e",
   "metadata": {},
   "outputs": [],
   "source": [
    "#Tensorflow Decision Forest Models (TF-DF)\n",
    "tfdf.keras.get_all_models()"
   ]
  },
  {
   "cell_type": "code",
   "execution_count": null,
   "id": "5b0a3447",
   "metadata": {},
   "outputs": [],
   "source": [
    "# Convert the pandas dataframe into a TensorFlow dataset\n",
    "train_ds = tfdf.keras.pd_dataframe_to_tf_dataset(train, label=\"SalePrice\", task = tfdf.keras.Task.REGRESSION)\n",
    "test_ds = tfdf.keras.pd_dataframe_to_tf_dataset(test, label=\"SalePrice\", task = tfdf.keras.Task.REGRESSION)"
   ]
  },
  {
   "cell_type": "code",
   "execution_count": null,
   "id": "3b196048-d9df-4411-a207-d8eb950c1fdc",
   "metadata": {},
   "outputs": [],
   "source": [
    "#RandomForestModel"
   ]
  },
  {
   "cell_type": "code",
   "execution_count": null,
   "id": "5f96763e-d63d-4074-8646-b12861b7b638",
   "metadata": {},
   "outputs": [],
   "source": [
    "# Create a RandomSearch tuner\n",
    "tuner_rf = tfdf.tuner.RandomSearch(num_trials=20)\n",
    "\n",
    "tuner_rf.choice(\"num_trees\", [100, 200, 500])\n",
    "tuner_rf.choice(\"max_depth\", [-1, 10, 30])\n",
    "tuner_rf.choice(\"min_examples\", [2, 5, 10])"
   ]
  },
  {
   "cell_type": "code",
   "execution_count": null,
   "id": "65dbbf4d",
   "metadata": {},
   "outputs": [],
   "source": [
    "model_rf = tfdf.keras.RandomForestModel(task=tfdf.keras.Task.REGRESSION, tuner=tuner_rf)\n",
    "model_rf.compile"
   ]
  },
  {
   "cell_type": "code",
   "execution_count": null,
   "id": "effb2b62",
   "metadata": {},
   "outputs": [],
   "source": [
    "model_rf.fit(train_ds)"
   ]
  },
  {
   "cell_type": "code",
   "execution_count": null,
   "id": "059223b4-113a-43ca-b423-8db7aa7ef195",
   "metadata": {},
   "outputs": [],
   "source": [
    "tuning_logs_rf = model_rf.make_inspector().tuning_logs()\n",
    "# Best hyper-parameters.\n",
    "tuning_logs_rf[tuning_logs_rf.best].iloc[0]"
   ]
  },
  {
   "cell_type": "code",
   "execution_count": null,
   "id": "2354ac6e",
   "metadata": {},
   "outputs": [],
   "source": [
    "model_rf.compile(metrics=[\"accuracy\"])\n",
    "print(model_rf.evaluate(test_ds))"
   ]
  },
  {
   "cell_type": "code",
   "execution_count": null,
   "id": "981e09c0",
   "metadata": {},
   "outputs": [],
   "source": [
    "inspector = model_rf.make_inspector()\n",
    "inspector.evaluation()"
   ]
  },
  {
   "cell_type": "code",
   "execution_count": null,
   "id": "b6909f7d",
   "metadata": {},
   "outputs": [],
   "source": [
    "#note this RMSE is on the logarmithic data, not the actual data! "
   ]
  },
  {
   "cell_type": "code",
   "execution_count": null,
   "id": "bf61b2f1",
   "metadata": {},
   "outputs": [],
   "source": [
    "#calculate the actual RMSE\n",
    "predictions_rf_log = model_rf.predict(test_ds)"
   ]
  },
  {
   "cell_type": "code",
   "execution_count": null,
   "id": "155e56a5",
   "metadata": {},
   "outputs": [],
   "source": [
    "predictions_rf=np.exp(predictions_rf_log)"
   ]
  },
  {
   "cell_type": "code",
   "execution_count": null,
   "id": "04dae43d",
   "metadata": {},
   "outputs": [],
   "source": [
    "rmse_rf = np.sqrt(mean_squared_error(np.exp(y_test), predictions_rf))\n",
    "print(f'Root Mean Squared Error for TF-DF Random Forest: {rmse_rf}')"
   ]
  },
  {
   "cell_type": "code",
   "execution_count": null,
   "id": "38a60581-41ab-453a-9439-97721c7a9688",
   "metadata": {},
   "outputs": [],
   "source": [
    "#GradientBoostedTreesModel"
   ]
  },
  {
   "cell_type": "code",
   "execution_count": null,
   "id": "1d81fa9e-3645-4ba3-a804-66fe0fc788d4",
   "metadata": {},
   "outputs": [],
   "source": [
    "# Create a RandomSearch tuner\n",
    "tuner_gb = tfdf.tuner.RandomSearch(num_trials=10)\n",
    "\n",
    "tuner_gb.choice(\"num_trees\", [50, 100, 200, 500, 1000])\n",
    "tuner_gb.choice(\"shrinkage\", [0.01, 0.05, 0.1, 0.3, 0.5])\n",
    "tuner_gb.choice(\"max_depth\", [3, 4, 5, 6, 8, 10])\n",
    "tuner_gb.choice(\"min_examples\", [2, 5, 10, 15])"
   ]
  },
  {
   "cell_type": "code",
   "execution_count": null,
   "id": "a4664ee2-e903-430a-90b6-01021c916065",
   "metadata": {},
   "outputs": [],
   "source": [
    "# Initialize and train Gradient Boosted Trees Regression model\n",
    "model_gb_regressor = tfdf.keras.GradientBoostedTreesModel(\n",
    "    task=tfdf.keras.Task.REGRESSION,\n",
    "    tuner=tuner_gb\n",
    ")\n",
    "\n",
    "model_gb_regressor.fit(train_ds)\n",
    "print(\"Model training complete.\")"
   ]
  },
  {
   "cell_type": "code",
   "execution_count": null,
   "id": "9e943537-2ae9-414b-9629-005510e635cb",
   "metadata": {},
   "outputs": [],
   "source": [
    "tuning_logs_gb = model_gb_regressor.make_inspector().tuning_logs()\n",
    "# Best hyper-parameters.\n",
    "tuning_logs_gb[tuning_logs_gb.best].iloc[0]"
   ]
  },
  {
   "cell_type": "code",
   "execution_count": null,
   "id": "27a411a2-4a98-4c61-b93d-f30a8550183c",
   "metadata": {},
   "outputs": [],
   "source": [
    "# Make predictions on test dataset\n",
    "predictions_gb_log = model_gb_regressor.predict(test_ds)\n",
    "\n",
    "# Reverse log transformation for predictions\n",
    "predictions_gb = np.exp(predictions_gb_log)\n",
    "\n",
    "# Reverse the log transformation for true variable\n",
    "y=test['SalePrice']"
   ]
  },
  {
   "cell_type": "code",
   "execution_count": null,
   "id": "aab04474-f9d1-4b53-bd18-16e8d3d47356",
   "metadata": {},
   "outputs": [],
   "source": [
    "# Calculate RMSE and evaluate model performance\n",
    "rmse_gb = np.sqrt(mean_squared_error(np.exp(y_test), predictions_gb))\n",
    "print(f'Root Mean Squared Error for TF-DF Gradient Boosted Trees: {rmse_gb}') "
   ]
  },
  {
   "cell_type": "code",
   "execution_count": null,
   "id": "aea9f9c7",
   "metadata": {},
   "outputs": [],
   "source": [
    "#CartModel"
   ]
  },
  {
   "cell_type": "code",
   "execution_count": null,
   "id": "c4a80b85",
   "metadata": {},
   "outputs": [],
   "source": [
    "#train model\n",
    "model_cm_regression = tfdf.keras.CartModel(task=tfdf.keras.Task.REGRESSION)\n",
    "model_cm_regression.fit(train_ds)"
   ]
  },
  {
   "cell_type": "code",
   "execution_count": null,
   "id": "7618be9c",
   "metadata": {},
   "outputs": [],
   "source": [
    "# Make predictions on the same dataset (or test set)\n",
    "predictions_log_cm = model_cm_regression.predict(test_ds)\n",
    "\n",
    "# Reverse the log transformation (use np.exp to get the original scale)\n",
    "predictions_cm = np.exp(predictions_log_cm)"
   ]
  },
  {
   "cell_type": "code",
   "execution_count": null,
   "id": "28eaba2b",
   "metadata": {},
   "outputs": [],
   "source": [
    "rmse_cm = np.sqrt(mean_squared_error(np.exp(y_test), predictions_cm))\n",
    "print(f'Root Mean Squared Error for TF-DF Cart Model: {rmse_cm}')"
   ]
  },
  {
   "cell_type": "code",
   "execution_count": null,
   "id": "7df3139a",
   "metadata": {},
   "outputs": [],
   "source": [
    "#Basic sklearn Random Forest"
   ]
  },
  {
   "cell_type": "code",
   "execution_count": null,
   "id": "1b307ba0",
   "metadata": {},
   "outputs": [],
   "source": [
    "regressor = RandomForestRegressor(n_estimators=100, random_state=0, oob_score=True)\n",
    "regressor.fit(X_train_one_hot, y_train)"
   ]
  },
  {
   "cell_type": "code",
   "execution_count": null,
   "id": "bcc60aec",
   "metadata": {},
   "outputs": [],
   "source": [
    "predictions_regressor_log = regressor.predict(X_test_one_hot)\n",
    "predictions_regressor = np.exp(predictions_regressor_log)"
   ]
  },
  {
   "cell_type": "code",
   "execution_count": null,
   "id": "14cb68ba",
   "metadata": {},
   "outputs": [],
   "source": [
    "mse_rf = mean_squared_error(np.exp(y_test), predictions_regressor)\n",
    "print(f'Mean Squared Error for sklearn Random Forest: {mse_rf}')"
   ]
  },
  {
   "cell_type": "code",
   "execution_count": null,
   "id": "7b0513b8",
   "metadata": {},
   "outputs": [],
   "source": [
    "    fig,ax = plt.subplots(figsize=(6,6))\n",
    "    ax.set_title('House price predictions',fontsize=20)\n",
    "    ax.set_ylabel('predicted',fontsize=12)\n",
    "    ax.set_xlabel('actual',fontsize=12)\n",
    "    ax.scatter(np.exp(y_test), predictions_regressor,label='Random Forest')\n",
    "    ax.scatter(np.exp(y_test), predictions_rf,label='TF-DF random forest')\n",
    "    ax.scatter(np.exp(y_test), predictions_cm,label='Cart model')\n",
    "    ax.scatter(np.exp(y_test), predictions_gb,label='GradientBoostedTreesModel')\n",
    "    ax.scatter(np.exp(y_test), predictions_lm,label='Linear model')\n",
    "    ax.legend()\n"
   ]
  },
  {
   "cell_type": "code",
   "execution_count": null,
   "id": "3ccbaff2",
   "metadata": {},
   "outputs": [],
   "source": [
    "# Map model names to their corresponding classes\n",
    "models = {\n",
    "    \"gradient_boosted_trees\": tfdf.keras.GradientBoostedTreesModel,\n",
    "    \"random_forest\": tfdf.keras.RandomForestModel\n",
    "}\n",
    "\n",
    "# Define model hyperparameter configurations\n",
    "params = {\n",
    "    \"gradient_boosted_trees\": {\n",
    "        \"num_trees\": [50, 100, 200, 500, 1000],\n",
    "        \"shrinkage\": [0.01, 0.05, 0.1, 0.3, 0.5],\n",
    "        \"max_depth\": [3, 4, 5, 6, 8, 10],\n",
    "        \"min_examples\": [2, 5, 10, 15]\n",
    "    },\n",
    "    \"random_forest\": {\n",
    "        \"num_trees\": [100, 200, 500],\n",
    "        \"max_depth\": [-1, 10, 30],\n",
    "        \"min_examples\": [2, 5, 10]\n",
    "    }\n",
    "}\n",
    "\n",
    "num_trials = {\n",
    "    \"gradient_boosted_trees\": 10,\n",
    "    \"random_forest\": 20\n",
    "}\n",
    "\n",
    "# Placeholder to store model output\n",
    "output_logs = []"
   ]
  },
  {
   "cell_type": "code",
   "execution_count": null,
   "id": "4db13248-83ee-4b6c-9ae8-2dc81ced5a8b",
   "metadata": {},
   "outputs": [],
   "source": [
    "# Train each model\n",
    "for model_name, config in params.items():\n",
    "    output_logs.append(f\"Training and tuning {model_name}...\")\n",
    "\n",
    "    num_trial = num_trials.get(model_name, 10)  # Get the number of trials for the model\n",
    "    tuner = tfdf.tuner.RandomSearch(num_trials=num_trial)\n",
    "    \n",
    "    # Loop through the configuration dictionary and set the hyperparameters\n",
    "    for param, values in config.items():\n",
    "        tuner.choice(param, values)\n",
    "    \n",
    "    model_class = models[model_name]  # Get the corresponding model class\n",
    "    model = model_class(task=tfdf.keras.Task.REGRESSION, tuner=tuner)\n",
    "    \n",
    "    model.fit(train_ds)\n",
    "\n",
    "    #get best parameters\n",
    "    tuning_logs = model.make_inspector().tuning_logs()\n",
    "    best_params = tuning_logs[tuning_logs.best].iloc[0]\n",
    "    \n",
    "    predictions_log = model.predict(test_ds)\n",
    "    y_pred = np.exp(predictions_log)\n",
    "    y_true = np.exp(y_test)\n",
    "    rmse = np.sqrt(mean_squared_error(y_true, y_pred))\n",
    "    \n",
    "    output_logs.append(f\"Best parameters for {model_name}: {best_params}\")\n",
    "    output_logs.append(f\"Best RMSE for {model_name}: {rmse:.6f}\")"
   ]
  },
  {
   "cell_type": "code",
   "execution_count": null,
   "id": "0d866b29-3e6c-4607-a580-1270ee823bdd",
   "metadata": {},
   "outputs": [],
   "source": [
    "for log in output_logs:\n",
    "    print(log)"
   ]
  },
  {
   "cell_type": "code",
   "execution_count": null,
   "id": "20a936f9-8fcf-44f6-b78e-f97a6a3c9990",
   "metadata": {},
   "outputs": [],
   "source": []
  },
  {
   "cell_type": "code",
   "execution_count": null,
   "id": "88ed7d21",
   "metadata": {},
   "outputs": [],
   "source": []
  },
  {
   "cell_type": "code",
   "execution_count": null,
   "id": "4520bf40",
   "metadata": {},
   "outputs": [],
   "source": [
    "#gradient boosting has the lowest RMSE. That will be used for the final model. "
   ]
  },
  {
   "cell_type": "code",
   "execution_count": null,
   "id": "80832a52",
   "metadata": {},
   "outputs": [],
   "source": [
    "#merge train_ds and test_ds\n",
    "total_ds=pd.concat([train,test])"
   ]
  },
  {
   "cell_type": "code",
   "execution_count": null,
   "id": "2e3404a8",
   "metadata": {},
   "outputs": [],
   "source": [
    "total_ds = tfdf.keras.pd_dataframe_to_tf_dataset(total_ds, label=\"SalePrice\", task = tfdf.keras.Task.REGRESSION)\n"
   ]
  },
  {
   "cell_type": "code",
   "execution_count": null,
   "id": "8a7fca81",
   "metadata": {},
   "outputs": [],
   "source": [
    "# Create a RandomSearch tuner\n",
    "tuner_gb = tfdf.tuner.RandomSearch(num_trials=10)\n",
    "\n",
    "tuner_gb.choice(\"num_trees\", [50, 100, 200, 500, 1000])\n",
    "tuner_gb.choice(\"shrinkage\", [0.01, 0.05, 0.1, 0.3, 0.5])\n",
    "tuner_gb.choice(\"max_depth\", [3, 4, 5, 6, 8, 10])\n",
    "tuner_gb.choice(\"min_examples\", [2, 5, 10, 15])"
   ]
  },
  {
   "cell_type": "code",
   "execution_count": null,
   "id": "3b9f6fbe",
   "metadata": {},
   "outputs": [],
   "source": [
    "# Initialize and train Gradient Boosted Trees Regression model\n",
    "model_gb_regressor = tfdf.keras.GradientBoostedTreesModel(\n",
    "    task=tfdf.keras.Task.REGRESSION,\n",
    "    tuner=tuner_gb\n",
    ")\n",
    "\n",
    "model_gb_regressor.fit(total_ds)\n",
    "print(\"Model training complete.\")"
   ]
  },
  {
   "cell_type": "code",
   "execution_count": null,
   "id": "54f63c3e",
   "metadata": {},
   "outputs": [],
   "source": [
    "tuning_logs_gb = model_gb_regressor.make_inspector().tuning_logs()\n",
    "# Best hyper-parameters.\n",
    "tuning_logs_gb[tuning_logs_gb.best].iloc[0]"
   ]
  },
  {
   "cell_type": "code",
   "execution_count": null,
   "id": "ea347e47",
   "metadata": {},
   "outputs": [],
   "source": [
    "#load testing data set \n",
    "testing = pd.read_csv('../data/raw/test.csv')"
   ]
  },
  {
   "cell_type": "code",
   "execution_count": null,
   "id": "4f8ea30a",
   "metadata": {},
   "outputs": [],
   "source": [
    "#replace LotFrontage with median of that column\n",
    "median=testing['LotFrontage'].median()\n",
    "testing['LotFrontage']=testing['LotFrontage'].fillna(median).astype(int)\n"
   ]
  },
  {
   "cell_type": "code",
   "execution_count": null,
   "id": "ac156c9d",
   "metadata": {},
   "outputs": [],
   "source": [
    "median=testing['BsmtFinSF1'].median()\n",
    "testing['BsmtFinSF1']=testing['BsmtFinSF1'].fillna(median).astype(int)"
   ]
  },
  {
   "cell_type": "code",
   "execution_count": null,
   "id": "0ef4aa6f",
   "metadata": {},
   "outputs": [],
   "source": [
    "median=testing['BsmtFinSF2'].median()\n",
    "testing['BsmtFinSF2']=testing['BsmtFinSF2'].fillna(median).astype(int)"
   ]
  },
  {
   "cell_type": "code",
   "execution_count": null,
   "id": "9055c516",
   "metadata": {},
   "outputs": [],
   "source": [
    "median=testing['BsmtUnfSF'].median()\n",
    "testing['BsmtUnfSF']=testing['BsmtUnfSF'].fillna(median).astype(int)"
   ]
  },
  {
   "cell_type": "code",
   "execution_count": null,
   "id": "3234270a",
   "metadata": {},
   "outputs": [],
   "source": [
    "median=testing['TotalBsmtSF'].median()\n",
    "testing['TotalBsmtSF']=testing['TotalBsmtSF'].fillna(median).astype(int)"
   ]
  },
  {
   "cell_type": "code",
   "execution_count": null,
   "id": "5a6b9679",
   "metadata": {},
   "outputs": [],
   "source": [
    "median=testing['BsmtFullBath'].median()\n",
    "testing['BsmtFullBath']=testing['BsmtFullBath'].fillna(median).astype(int)"
   ]
  },
  {
   "cell_type": "code",
   "execution_count": null,
   "id": "8633d2c4",
   "metadata": {},
   "outputs": [],
   "source": [
    "median=testing['BsmtHalfBath'].median()\n",
    "testing['BsmtHalfBath']=testing['BsmtHalfBath'].fillna(median).astype(int)"
   ]
  },
  {
   "cell_type": "code",
   "execution_count": null,
   "id": "399ba876",
   "metadata": {},
   "outputs": [],
   "source": [
    "median=testing['GarageCars'].median()\n",
    "testing['GarageCars']=testing['GarageCars'].fillna(median).astype(int)"
   ]
  },
  {
   "cell_type": "code",
   "execution_count": null,
   "id": "d7c2a440",
   "metadata": {},
   "outputs": [],
   "source": [
    "median=testing['GarageArea'].median()\n",
    "testing['GarageArea']=testing['GarageArea'].fillna(median).astype(int)"
   ]
  },
  {
   "cell_type": "code",
   "execution_count": null,
   "id": "6b5a1f2c",
   "metadata": {},
   "outputs": [],
   "source": [
    "testing_tf = tfdf.keras.pd_dataframe_to_tf_dataset(testing, task = tfdf.keras.Task.REGRESSION)"
   ]
  },
  {
   "cell_type": "code",
   "execution_count": null,
   "id": "ac16fba3",
   "metadata": {},
   "outputs": [],
   "source": [
    "# Make predictions on test dataset\n",
    "predictions_gb_log = model_gb_regressor.predict(testing_tf).flatten() #convert to 1D for submission\n",
    "\n",
    "# Reverse log transformation for predictions\n",
    "predictions_gb = np.exp(predictions_gb_log)\n"
   ]
  },
  {
   "cell_type": "code",
   "execution_count": null,
   "id": "181ba837-2e44-486e-affc-bf8ffc8b207a",
   "metadata": {},
   "outputs": [],
   "source": [
    "predictions_gb"
   ]
  },
  {
   "cell_type": "code",
   "execution_count": null,
   "id": "f4195fe8",
   "metadata": {},
   "outputs": [],
   "source": [
    "submission = pd.DataFrame({\n",
    "    \"Id\": testing[\"Id\"], \n",
    "    \"SalePrice\": predictions_gb\n",
    "})"
   ]
  },
  {
   "cell_type": "code",
   "execution_count": null,
   "id": "965e8073-41f5-4d1e-895d-27bccbaee108",
   "metadata": {},
   "outputs": [],
   "source": [
    "submission.to_csv('../data/results/predictions_gb.csv', index=False)"
   ]
  }
 ],
 "metadata": {
  "kernelspec": {
   "display_name": "Python 3 (ipykernel)",
   "language": "python",
   "name": "python3"
  },
  "language_info": {
   "codemirror_mode": {
    "name": "ipython",
    "version": 3
   },
   "file_extension": ".py",
   "mimetype": "text/x-python",
   "name": "python",
   "nbconvert_exporter": "python",
   "pygments_lexer": "ipython3",
   "version": "3.11.8"
  }
 },
 "nbformat": 4,
 "nbformat_minor": 5
}
