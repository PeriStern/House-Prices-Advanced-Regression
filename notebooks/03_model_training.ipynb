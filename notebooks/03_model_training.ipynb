{
 "cells": [
  {
   "cell_type": "code",
   "execution_count": 61,
   "id": "613f06a2-a6a0-4d42-b1bb-1bc8c30fa45d",
   "metadata": {},
   "outputs": [],
   "source": [
    "import pandas as pd\n",
    "from sklearn import datasets, linear_model, metrics\n",
    "import numpy as np\n",
    "from sklearn.metrics import mean_squared_error\n",
    "import tensorflow as tf\n",
    "import tensorflow_decision_forests as tfdf\n",
    "from sklearn.ensemble import RandomForestRegressor\n",
    "import matplotlib.pyplot as plt"
   ]
  },
  {
   "cell_type": "code",
   "execution_count": 62,
   "id": "e2f35dbd-1ce3-4f5d-be1b-90d2f41fc2f9",
   "metadata": {},
   "outputs": [],
   "source": [
    "train = pd.read_csv('../data/processed/train_data.csv')\n",
    "test = pd.read_csv('../data/processed/test_data.csv')"
   ]
  },
  {
   "cell_type": "code",
   "execution_count": 63,
   "id": "52a0a648-54c4-4f1b-8481-1c716b6896c3",
   "metadata": {},
   "outputs": [],
   "source": [
    "#split input and output\n",
    "X_train=train.drop(['SalePrice'], axis=1)\n",
    "y_train= train['SalePrice']\n",
    "\n",
    "X_test=test.drop(['SalePrice'], axis=1)\n",
    "y_test= test['SalePrice']"
   ]
  },
  {
   "cell_type": "code",
   "execution_count": null,
   "id": "308c1056-ff4e-4332-bdec-34575a6ee19d",
   "metadata": {},
   "outputs": [],
   "source": [
    "#one hot encoding - convert categorical columns to numerical for linear regression. \n",
    "#there was an error with vanishing columns in test. This fixes it. \n",
    "X_train_one_hot = pd.get_dummies(X_train, drop_first=True) \n",
    "cols = X_train_one_hot.columns.tolist()\n",
    "X_test_one_hot = pd.get_dummies(X_test, drop_first=True) \n",
    "X_test_one_hot = X_test_one_hot.reindex(columns=cols).fillna(0)\n"
   ]
  },
  {
   "cell_type": "code",
   "execution_count": null,
   "id": "70cc16b2-b4d5-4462-ae53-7d132417cc74",
   "metadata": {},
   "outputs": [],
   "source": [
    "#Linear regression: \n",
    "#fit_intercept=False is needed as collinearity of one hot encoding, first row has to be dropped. \n",
    "reg = linear_model.LinearRegression(fit_intercept=False)\n",
    "reg.fit(X_train_one_hot, y_train)"
   ]
  },
  {
   "cell_type": "code",
   "execution_count": null,
   "id": "95a11675-5ff1-49a2-8a0c-4c77baea66af",
   "metadata": {},
   "outputs": [],
   "source": [
    "#predict sales price on test set\n",
    "predictions_lm = reg.predict(X_test_one_hot)"
   ]
  },
  {
   "cell_type": "code",
   "execution_count": null,
   "id": "b5aa535a-48bf-45e7-891f-603ed00e0495",
   "metadata": {},
   "outputs": [],
   "source": [
    "#Apply inverse transformation to bring predictions back to the original scale\n",
    "predictions_lm = np.exp(predictions_lm)"
   ]
  },
  {
   "cell_type": "code",
   "execution_count": null,
   "id": "721a57be",
   "metadata": {},
   "outputs": [],
   "source": [
    "#RMSE \n",
    "rms = mean_squared_error(np.exp(y_test), predictions_lm, squared=False)\n",
    "rms"
   ]
  },
  {
   "cell_type": "code",
   "execution_count": null,
   "id": "066aef42",
   "metadata": {},
   "outputs": [],
   "source": [
    "#tensorflow decision trees\n",
    "#!pip install tensorflow_decision_forests"
   ]
  },
  {
   "cell_type": "code",
   "execution_count": 64,
   "id": "5b0a3447",
   "metadata": {},
   "outputs": [],
   "source": [
    "# Convert the pandas dataframe into a TensorFlow dataset\n",
    "train_ds = tfdf.keras.pd_dataframe_to_tf_dataset(train, label=\"SalePrice\", task = tfdf.keras.Task.REGRESSION)\n",
    "test_ds = tfdf.keras.pd_dataframe_to_tf_dataset(test, label=\"SalePrice\", task = tfdf.keras.Task.REGRESSION)"
   ]
  },
  {
   "cell_type": "code",
   "execution_count": null,
   "id": "65dbbf4d",
   "metadata": {},
   "outputs": [],
   "source": [
    "model = tfdf.keras.RandomForestModel(task=tfdf.keras.Task.REGRESSION)\n",
    "model.compile"
   ]
  },
  {
   "cell_type": "code",
   "execution_count": null,
   "id": "effb2b62",
   "metadata": {},
   "outputs": [],
   "source": [
    "model.fit(train_ds)"
   ]
  },
  {
   "cell_type": "code",
   "execution_count": null,
   "id": "2354ac6e",
   "metadata": {},
   "outputs": [],
   "source": [
    "model.compile(metrics=[\"accuracy\"])\n",
    "print(model.evaluate(test_ds))"
   ]
  },
  {
   "cell_type": "code",
   "execution_count": null,
   "id": "981e09c0",
   "metadata": {},
   "outputs": [],
   "source": [
    "inspector = model.make_inspector()\n",
    "inspector.evaluation()"
   ]
  },
  {
   "cell_type": "code",
   "execution_count": null,
   "id": "b6909f7d",
   "metadata": {},
   "outputs": [],
   "source": [
    "#note this RMSE is on the logarmithic data, not the actual data! "
   ]
  },
  {
   "cell_type": "code",
   "execution_count": null,
   "id": "bf61b2f1",
   "metadata": {},
   "outputs": [],
   "source": [
    "#calculate the actual RMSE\n",
    "preds = model.predict(test_ds)"
   ]
  },
  {
   "cell_type": "code",
   "execution_count": null,
   "id": "155e56a5",
   "metadata": {},
   "outputs": [],
   "source": [
    "predics=np.exp(preds)\n",
    "y=test['SalePrice']"
   ]
  },
  {
   "cell_type": "code",
   "execution_count": null,
   "id": "04dae43d",
   "metadata": {},
   "outputs": [],
   "source": [
    "rms = mean_squared_error(np.exp(y), preds, squared=False)\n",
    "rms"
   ]
  },
  {
   "cell_type": "code",
   "execution_count": null,
   "id": "02d7120a",
   "metadata": {},
   "outputs": [],
   "source": [
    "\n",
    "#next acitivity, explore all of these methods and compare RMSE of all\n",
    "\n",
    "tfdf.keras.get_all_models()\n"
   ]
  },
  {
   "cell_type": "code",
   "execution_count": null,
   "id": "38a60581-41ab-453a-9439-97721c7a9688",
   "metadata": {},
   "outputs": [],
   "source": [
    "#GradientBoostedTreesModel - work in progress"
   ]
  },
  {
   "cell_type": "code",
   "execution_count": 65,
   "id": "a4664ee2-e903-430a-90b6-01021c916065",
   "metadata": {},
   "outputs": [
    {
     "name": "stdout",
     "output_type": "stream",
     "text": [
      "Use /var/folders/dw/bq4phr0s4yz1_3vy2_gppjcm0000gp/T/tmpr1zqwhjm as temporary training directory\n",
      "Reading training dataset...\n"
     ]
    },
    {
     "name": "stderr",
     "output_type": "stream",
     "text": [
      "2024-12-31 12:26:13.967031: W external/ydf/yggdrasil_decision_forests/learner/gradient_boosted_trees/gradient_boosted_trees.cc:1840] \"goss_alpha\" set but \"sampling_method\" not equal to \"GOSS\".\n",
      "2024-12-31 12:26:13.967058: W external/ydf/yggdrasil_decision_forests/learner/gradient_boosted_trees/gradient_boosted_trees.cc:1850] \"goss_beta\" set but \"sampling_method\" not equal to \"GOSS\".\n",
      "2024-12-31 12:26:13.967065: W external/ydf/yggdrasil_decision_forests/learner/gradient_boosted_trees/gradient_boosted_trees.cc:1864] \"selective_gradient_boosting_ratio\" set but \"sampling_method\" not equal to \"SELGB\".\n"
     ]
    },
    {
     "name": "stdout",
     "output_type": "stream",
     "text": [
      "Training dataset read in 0:00:00.351699. Found 1165 examples.\n",
      "Training model...\n"
     ]
    },
    {
     "name": "stderr",
     "output_type": "stream",
     "text": [
      "I0000 00:00:1735665974.327336 32980817 kernel.cc:782] Start Yggdrasil model training\n",
      "I0000 00:00:1735665974.327347 32980817 kernel.cc:783] Collect training examples\n",
      "I0000 00:00:1735665974.327351 32980817 kernel.cc:795] Dataspec guide:\n",
      "column_guides {\n",
      "  column_name_pattern: \"^__LABEL$\"\n",
      "  type: NUMERICAL\n",
      "}\n",
      "default_column_guide {\n",
      "  categorial {\n",
      "    max_vocab_count: 2000\n",
      "  }\n",
      "  discretized_numerical {\n",
      "    maximum_num_bins: 255\n",
      "  }\n",
      "}\n",
      "ignore_columns_without_guides: false\n",
      "detect_numerical_as_discretized_numerical: false\n",
      "\n",
      "I0000 00:00:1735665974.327477 32980817 kernel.cc:401] Number of batches: 2\n",
      "I0000 00:00:1735665974.327480 32980817 kernel.cc:402] Number of examples: 1165\n",
      "I0000 00:00:1735665974.328529 32980817 data_spec_inference.cc:354] 1 item(s) have been pruned (i.e. they are considered out of dictionary) for the column BsmtCond (3 item(s) left) because min_value_count=5 and max_number_of_unique_values=2000\n",
      "I0000 00:00:1735665974.328539 32980817 data_spec_inference.cc:354] 1 item(s) have been pruned (i.e. they are considered out of dictionary) for the column Condition1 (7 item(s) left) because min_value_count=5 and max_number_of_unique_values=2000\n",
      "I0000 00:00:1735665974.328542 32980817 data_spec_inference.cc:354] 6 item(s) have been pruned (i.e. they are considered out of dictionary) for the column Condition2 (1 item(s) left) because min_value_count=5 and max_number_of_unique_values=2000\n",
      "I0000 00:00:1735665974.328544 32980817 data_spec_inference.cc:354] 2 item(s) have been pruned (i.e. they are considered out of dictionary) for the column Electrical (3 item(s) left) because min_value_count=5 and max_number_of_unique_values=2000\n",
      "I0000 00:00:1735665974.328546 32980817 data_spec_inference.cc:354] 2 item(s) have been pruned (i.e. they are considered out of dictionary) for the column ExterCond (3 item(s) left) because min_value_count=5 and max_number_of_unique_values=2000\n",
      "I0000 00:00:1735665974.328550 32980817 data_spec_inference.cc:354] 3 item(s) have been pruned (i.e. they are considered out of dictionary) for the column Exterior1st (10 item(s) left) because min_value_count=5 and max_number_of_unique_values=2000\n",
      "I0000 00:00:1735665974.328553 32980817 data_spec_inference.cc:354] 4 item(s) have been pruned (i.e. they are considered out of dictionary) for the column Exterior2nd (12 item(s) left) because min_value_count=5 and max_number_of_unique_values=2000\n",
      "I0000 00:00:1735665974.328558 32980817 data_spec_inference.cc:354] 2 item(s) have been pruned (i.e. they are considered out of dictionary) for the column Foundation (4 item(s) left) because min_value_count=5 and max_number_of_unique_values=2000\n",
      "I0000 00:00:1735665974.328561 32980817 data_spec_inference.cc:354] 1 item(s) have been pruned (i.e. they are considered out of dictionary) for the column Functional (6 item(s) left) because min_value_count=5 and max_number_of_unique_values=2000\n",
      "I0000 00:00:1735665974.328563 32980817 data_spec_inference.cc:354] 1 item(s) have been pruned (i.e. they are considered out of dictionary) for the column GarageCond (4 item(s) left) because min_value_count=5 and max_number_of_unique_values=2000\n",
      "I0000 00:00:1735665974.328566 32980817 data_spec_inference.cc:354] 2 item(s) have been pruned (i.e. they are considered out of dictionary) for the column GarageQual (3 item(s) left) because min_value_count=5 and max_number_of_unique_values=2000\n",
      "I0000 00:00:1735665974.328568 32980817 data_spec_inference.cc:354] 1 item(s) have been pruned (i.e. they are considered out of dictionary) for the column GarageType (5 item(s) left) because min_value_count=5 and max_number_of_unique_values=2000\n",
      "I0000 00:00:1735665974.328570 32980817 data_spec_inference.cc:354] 2 item(s) have been pruned (i.e. they are considered out of dictionary) for the column Heating (3 item(s) left) because min_value_count=5 and max_number_of_unique_values=2000\n",
      "I0000 00:00:1735665974.328573 32980817 data_spec_inference.cc:354] 1 item(s) have been pruned (i.e. they are considered out of dictionary) for the column HeatingQC (4 item(s) left) because min_value_count=5 and max_number_of_unique_values=2000\n",
      "I0000 00:00:1735665974.328579 32980817 data_spec_inference.cc:354] 1 item(s) have been pruned (i.e. they are considered out of dictionary) for the column LotConfig (4 item(s) left) because min_value_count=5 and max_number_of_unique_values=2000\n",
      "I0000 00:00:1735665974.328583 32980817 data_spec_inference.cc:354] 2 item(s) have been pruned (i.e. they are considered out of dictionary) for the column MiscFeature (1 item(s) left) because min_value_count=5 and max_number_of_unique_values=2000\n",
      "I0000 00:00:1735665974.328587 32980817 data_spec_inference.cc:354] 1 item(s) have been pruned (i.e. they are considered out of dictionary) for the column Neighborhood (24 item(s) left) because min_value_count=5 and max_number_of_unique_values=2000\n",
      "I0000 00:00:1735665974.328592 32980817 data_spec_inference.cc:354] 3 item(s) have been pruned (i.e. they are considered out of dictionary) for the column PoolQC (0 item(s) left) because min_value_count=5 and max_number_of_unique_values=2000\n",
      "I0000 00:00:1735665974.328594 32980817 data_spec_inference.cc:354] 4 item(s) have been pruned (i.e. they are considered out of dictionary) for the column RoofMatl (3 item(s) left) because min_value_count=5 and max_number_of_unique_values=2000\n",
      "I0000 00:00:1735665974.328596 32980817 data_spec_inference.cc:354] 1 item(s) have been pruned (i.e. they are considered out of dictionary) for the column RoofStyle (5 item(s) left) because min_value_count=5 and max_number_of_unique_values=2000\n",
      "I0000 00:00:1735665974.328598 32980817 data_spec_inference.cc:354] 1 item(s) have been pruned (i.e. they are considered out of dictionary) for the column SaleCondition (5 item(s) left) because min_value_count=5 and max_number_of_unique_values=2000\n",
      "I0000 00:00:1735665974.328601 32980817 data_spec_inference.cc:354] 4 item(s) have been pruned (i.e. they are considered out of dictionary) for the column SaleType (5 item(s) left) because min_value_count=5 and max_number_of_unique_values=2000\n",
      "I0000 00:00:1735665974.328603 32980817 data_spec_inference.cc:354] 1 item(s) have been pruned (i.e. they are considered out of dictionary) for the column Street (1 item(s) left) because min_value_count=5 and max_number_of_unique_values=2000\n",
      "I0000 00:00:1735665974.328605 32980817 data_spec_inference.cc:354] 1 item(s) have been pruned (i.e. they are considered out of dictionary) for the column Utilities (1 item(s) left) because min_value_count=5 and max_number_of_unique_values=2000\n",
      "I0000 00:00:1735665974.329416 32980817 kernel.cc:802] Training dataset:\n",
      "Number of records: 1165\n",
      "Number of columns: 81\n",
      "\n",
      "Number of columns by type:\n",
      "\tCATEGORICAL: 43 (53.0864%)\n",
      "\tNUMERICAL: 38 (46.9136%)\n",
      "\n",
      "Columns:\n",
      "\n",
      "CATEGORICAL: 43 (53.0864%)\n",
      "\t3: \"Alley\" CATEGORICAL num-nas:1096 (94.0773%) has-dict vocab-size:3 zero-ood-items most-frequent:\"Grvl\" 37 (53.6232%)\n",
      "\t5: \"BldgType\" CATEGORICAL has-dict vocab-size:6 zero-ood-items most-frequent:\"1Fam\" 976 (83.7768%)\n",
      "\t6: \"BsmtCond\" CATEGORICAL num-nas:24 (2.06009%) has-dict vocab-size:4 num-oods:2 (0.175285%) most-frequent:\"TA\" 1052 (92.1998%)\n",
      "\t7: \"BsmtExposure\" CATEGORICAL num-nas:24 (2.06009%) has-dict vocab-size:5 zero-ood-items most-frequent:\"No\" 759 (66.5206%)\n",
      "\t10: \"BsmtFinType1\" CATEGORICAL num-nas:24 (2.06009%) has-dict vocab-size:7 zero-ood-items most-frequent:\"Unf\" 346 (30.3243%)\n",
      "\t11: \"BsmtFinType2\" CATEGORICAL num-nas:24 (2.06009%) has-dict vocab-size:7 zero-ood-items most-frequent:\"Unf\" 1005 (88.0806%)\n",
      "\t14: \"BsmtQual\" CATEGORICAL num-nas:24 (2.06009%) has-dict vocab-size:5 zero-ood-items most-frequent:\"TA\" 518 (45.3988%)\n",
      "\t16: \"CentralAir\" CATEGORICAL has-dict vocab-size:3 zero-ood-items most-frequent:\"Y\" 1097 (94.1631%)\n",
      "\t17: \"Condition1\" CATEGORICAL has-dict vocab-size:8 num-oods:4 (0.343348%) most-frequent:\"Norm\" 1010 (86.6953%)\n",
      "\t18: \"Condition2\" CATEGORICAL has-dict vocab-size:2 num-oods:11 (0.944206%) most-frequent:\"Norm\" 1154 (99.0558%)\n",
      "\t19: \"Electrical\" CATEGORICAL has-dict vocab-size:4 num-oods:2 (0.171674%) most-frequent:\"SBrkr\" 1071 (91.9313%)\n",
      "\t21: \"ExterCond\" CATEGORICAL has-dict vocab-size:4 num-oods:4 (0.343348%) most-frequent:\"TA\" 1022 (87.7253%)\n",
      "\t22: \"ExterQual\" CATEGORICAL has-dict vocab-size:5 zero-ood-items most-frequent:\"TA\" 712 (61.1159%)\n",
      "\t23: \"Exterior1st\" CATEGORICAL has-dict vocab-size:11 num-oods:3 (0.257511%) most-frequent:\"VinylSd\" 421 (36.1373%)\n",
      "\t24: \"Exterior2nd\" CATEGORICAL has-dict vocab-size:13 num-oods:7 (0.600858%) most-frequent:\"VinylSd\" 412 (35.3648%)\n",
      "\t25: \"Fence\" CATEGORICAL num-nas:945 (81.1159%) has-dict vocab-size:5 zero-ood-items most-frequent:\"MnPrv\" 123 (55.9091%)\n",
      "\t26: \"FireplaceQu\" CATEGORICAL num-nas:544 (46.6953%) has-dict vocab-size:6 zero-ood-items most-frequent:\"Gd\" 312 (50.2415%)\n",
      "\t28: \"Foundation\" CATEGORICAL has-dict vocab-size:5 num-oods:7 (0.600858%) most-frequent:\"PConc\" 524 (44.9785%)\n",
      "\t30: \"Functional\" CATEGORICAL has-dict vocab-size:7 num-oods:1 (0.0858369%) most-frequent:\"Typ\" 1084 (93.0472%)\n",
      "\t33: \"GarageCond\" CATEGORICAL num-nas:72 (6.18026%) has-dict vocab-size:5 num-oods:1 (0.0914913%) most-frequent:\"TA\" 1050 (96.0659%)\n",
      "\t34: \"GarageFinish\" CATEGORICAL num-nas:72 (6.18026%) has-dict vocab-size:4 zero-ood-items most-frequent:\"Unf\" 460 (42.086%)\n",
      "\t35: \"GarageQual\" CATEGORICAL num-nas:72 (6.18026%) has-dict vocab-size:4 num-oods:5 (0.457457%) most-frequent:\"TA\" 1040 (95.151%)\n",
      "\t36: \"GarageType\" CATEGORICAL num-nas:72 (6.18026%) has-dict vocab-size:6 num-oods:3 (0.274474%) most-frequent:\"Attchd\" 696 (63.678%)\n",
      "\t40: \"Heating\" CATEGORICAL has-dict vocab-size:4 num-oods:5 (0.429185%) most-frequent:\"GasA\" 1139 (97.7682%)\n",
      "\t41: \"HeatingQC\" CATEGORICAL has-dict vocab-size:5 num-oods:1 (0.0858369%) most-frequent:\"Ex\" 596 (51.1588%)\n",
      "\t42: \"HouseStyle\" CATEGORICAL has-dict vocab-size:9 zero-ood-items most-frequent:\"1Story\" 575 (49.3562%)\n",
      "\t45: \"KitchenQual\" CATEGORICAL has-dict vocab-size:5 zero-ood-items most-frequent:\"TA\" 581 (49.8712%)\n",
      "\t46: \"LandContour\" CATEGORICAL has-dict vocab-size:5 zero-ood-items most-frequent:\"Lvl\" 1042 (89.4421%)\n",
      "\t47: \"LandSlope\" CATEGORICAL has-dict vocab-size:4 zero-ood-items most-frequent:\"Gtl\" 1102 (94.5923%)\n",
      "\t49: \"LotConfig\" CATEGORICAL has-dict vocab-size:5 num-oods:4 (0.343348%) most-frequent:\"Inside\" 836 (71.7597%)\n",
      "\t51: \"LotShape\" CATEGORICAL has-dict vocab-size:5 zero-ood-items most-frequent:\"Reg\" 734 (63.0043%)\n",
      "\t54: \"MSZoning\" CATEGORICAL has-dict vocab-size:6 zero-ood-items most-frequent:\"RL\" 920 (78.97%)\n",
      "\t56: \"MasVnrType\" CATEGORICAL num-nas:689 (59.1416%) has-dict vocab-size:4 zero-ood-items most-frequent:\"BrkFace\" 356 (74.7899%)\n",
      "\t57: \"MiscFeature\" CATEGORICAL num-nas:1122 (96.309%) has-dict vocab-size:2 num-oods:4 (9.30233%) most-frequent:\"Shed\" 39 (90.6977%)\n",
      "\t60: \"Neighborhood\" CATEGORICAL has-dict vocab-size:25 num-oods:2 (0.171674%) most-frequent:\"NAmes\" 183 (15.7082%)\n",
      "\t64: \"PavedDrive\" CATEGORICAL has-dict vocab-size:4 zero-ood-items most-frequent:\"Y\" 1071 (91.9313%)\n",
      "\t66: \"PoolQC\" CATEGORICAL num-nas:1161 (99.6567%) has-dict vocab-size:1 num-oods:4 (100%)\n",
      "\t67: \"RoofMatl\" CATEGORICAL has-dict vocab-size:4 num-oods:5 (0.429185%) most-frequent:\"CompShg\" 1146 (98.3691%)\n",
      "\t68: \"RoofStyle\" CATEGORICAL has-dict vocab-size:6 num-oods:2 (0.171674%) most-frequent:\"Gable\" 903 (77.5107%)\n",
      "\t69: \"SaleCondition\" CATEGORICAL has-dict vocab-size:6 num-oods:2 (0.171674%) most-frequent:\"Normal\" 951 (81.6309%)\n",
      "\t70: \"SaleType\" CATEGORICAL has-dict vocab-size:6 num-oods:11 (0.944206%) most-frequent:\"WD\" 1004 (86.1803%)\n",
      "\t72: \"Street\" CATEGORICAL has-dict vocab-size:2 num-oods:4 (0.343348%) most-frequent:\"Pave\" 1161 (99.6567%)\n",
      "\t75: \"Utilities\" CATEGORICAL has-dict vocab-size:2 num-oods:1 (0.0858369%) most-frequent:\"AllPub\" 1164 (99.9142%)\n",
      "\n",
      "NUMERICAL: 38 (46.9136%)\n",
      "\t0: \"1stFlrSF\" NUMERICAL mean:1163.62 min:372 max:4692 sd:390.377\n",
      "\t1: \"2ndFlrSF\" NUMERICAL mean:354.442 min:0 max:1872 sd:442.352\n",
      "\t2: \"3SsnPorch\" NUMERICAL mean:3.25322 min:0 max:508 sd:28.2724\n",
      "\t4: \"BedroomAbvGr\" NUMERICAL mean:2.8824 min:0 max:8 sd:0.819761\n",
      "\t8: \"BsmtFinSF1\" NUMERICAL mean:448.565 min:0 max:5644 sd:460.659\n",
      "\t9: \"BsmtFinSF2\" NUMERICAL mean:46.9202 min:0 max:1127 sd:160.976\n",
      "\t12: \"BsmtFullBath\" NUMERICAL mean:0.427468 min:0 max:3 sd:0.518434\n",
      "\t13: \"BsmtHalfBath\" NUMERICAL mean:0.0609442 min:0 max:2 sd:0.2463\n",
      "\t15: \"BsmtUnfSF\" NUMERICAL mean:565.572 min:0 max:2336 sd:435.502\n",
      "\t20: \"EnclosedPorch\" NUMERICAL mean:22.1382 min:0 max:552 sd:61.1196\n",
      "\t27: \"Fireplaces\" NUMERICAL mean:0.616309 min:0 max:3 sd:0.638863\n",
      "\t29: \"FullBath\" NUMERICAL mean:1.57425 min:0 max:3 sd:0.554983\n",
      "\t31: \"GarageArea\" NUMERICAL mean:471.641 min:0 max:1418 sd:218.173\n",
      "\t32: \"GarageCars\" NUMERICAL mean:1.76223 min:0 max:4 sd:0.759002\n",
      "\t37: \"GarageYrBlt\" NUMERICAL num-nas:72 (6.18026%) mean:1978.74 min:1900 max:2010 sd:24.8408\n",
      "\t38: \"GrLivArea\" NUMERICAL mean:1524.08 min:438 max:5642 sd:530.529\n",
      "\t39: \"HalfBath\" NUMERICAL mean:0.387124 min:0 max:2 sd:0.502702\n",
      "\t43: \"Id\" NUMERICAL mean:742.477 min:1 max:1460 sd:419.979\n",
      "\t44: \"KitchenAbvGr\" NUMERICAL mean:1.04464 min:0 max:3 sd:0.218616\n",
      "\t48: \"LotArea\" NUMERICAL mean:10582.5 min:1300 max:215245 sd:10340.4\n",
      "\t50: \"LotFrontage\" NUMERICAL mean:69.8532 min:21 max:313 sd:22.4105\n",
      "\t52: \"LowQualFinSF\" NUMERICAL mean:6.0206 min:0 max:572 sd:49.4899\n",
      "\t53: \"MSSubClass\" NUMERICAL mean:57.1202 min:20 max:190 sd:42.3212\n",
      "\t55: \"MasVnrArea\" NUMERICAL num-nas:6 (0.515021%) mean:107.459 min:0 max:1600 sd:185.966\n",
      "\t58: \"MiscVal\" NUMERICAL mean:44.3468 min:0 max:15500 sd:540.007\n",
      "\t59: \"MoSold\" NUMERICAL mean:6.36052 min:1 max:12 sd:2.66637\n",
      "\t61: \"OpenPorchSF\" NUMERICAL mean:47.206 min:0 max:547 sd:66.9365\n",
      "\t62: \"OverallCond\" NUMERICAL mean:5.58627 min:1 max:9 sd:1.12123\n",
      "\t63: \"OverallQual\" NUMERICAL mean:6.13047 min:1 max:10 sd:1.39409\n",
      "\t65: \"PoolArea\" NUMERICAL mean:1.90215 min:0 max:648 sd:32.6249\n",
      "\t71: \"ScreenPorch\" NUMERICAL mean:14.9167 min:0 max:480 sd:55.1891\n",
      "\t73: \"TotRmsAbvGrd\" NUMERICAL mean:6.56052 min:3 max:14 sd:1.64929\n",
      "\t74: \"TotalBsmtSF\" NUMERICAL mean:1061.06 min:0 max:6110 sd:433.612\n",
      "\t76: \"WoodDeckSF\" NUMERICAL mean:94.7476 min:0 max:857 sd:123.707\n",
      "\t77: \"YearBuilt\" NUMERICAL mean:1971.39 min:1872 max:2010 sd:30.5351\n",
      "\t78: \"YearRemodAdd\" NUMERICAL mean:1985.28 min:1950 max:2010 sd:20.5411\n",
      "\t79: \"YrSold\" NUMERICAL mean:2007.82 min:2006 max:2010 sd:1.33018\n",
      "\t80: \"__LABEL\" NUMERICAL mean:12.0314 min:10.4602 max:13.5345 sd:0.398999\n",
      "\n",
      "Terminology:\n",
      "\tnas: Number of non-available (i.e. missing) values.\n",
      "\tood: Out of dictionary.\n",
      "\tmanually-defined: Attribute whose type is manually defined by the user, i.e., the type was not automatically inferred.\n",
      "\ttokenized: The attribute value is obtained through tokenization.\n",
      "\thas-dict: The attribute is attached to a string dictionary e.g. a categorical attribute stored as a string.\n",
      "\tvocab-size: Number of unique values.\n",
      "\n",
      "I0000 00:00:1735665974.329454 32980817 kernel.cc:818] Configure learner\n",
      "2024-12-31 12:26:14.329556: W external/ydf/yggdrasil_decision_forests/learner/gradient_boosted_trees/gradient_boosted_trees.cc:1840] \"goss_alpha\" set but \"sampling_method\" not equal to \"GOSS\".\n",
      "2024-12-31 12:26:14.329562: W external/ydf/yggdrasil_decision_forests/learner/gradient_boosted_trees/gradient_boosted_trees.cc:1850] \"goss_beta\" set but \"sampling_method\" not equal to \"GOSS\".\n",
      "2024-12-31 12:26:14.329564: W external/ydf/yggdrasil_decision_forests/learner/gradient_boosted_trees/gradient_boosted_trees.cc:1864] \"selective_gradient_boosting_ratio\" set but \"sampling_method\" not equal to \"SELGB\".\n",
      "I0000 00:00:1735665974.329585 32980817 kernel.cc:831] Training config:\n",
      "learner: \"GRADIENT_BOOSTED_TREES\"\n",
      "features: \"^1stFlrSF$\"\n",
      "features: \"^2ndFlrSF$\"\n",
      "features: \"^3SsnPorch$\"\n",
      "features: \"^Alley$\"\n",
      "features: \"^BedroomAbvGr$\"\n",
      "features: \"^BldgType$\"\n",
      "features: \"^BsmtCond$\"\n",
      "features: \"^BsmtExposure$\"\n",
      "features: \"^BsmtFinSF1$\"\n",
      "features: \"^BsmtFinSF2$\"\n",
      "features: \"^BsmtFinType1$\"\n",
      "features: \"^BsmtFinType2$\"\n",
      "features: \"^BsmtFullBath$\"\n",
      "features: \"^BsmtHalfBath$\"\n",
      "features: \"^BsmtQual$\"\n",
      "features: \"^BsmtUnfSF$\"\n",
      "features: \"^CentralAir$\"\n",
      "features: \"^Condition1$\"\n",
      "features: \"^Condition2$\"\n",
      "features: \"^Electrical$\"\n",
      "features: \"^EnclosedPorch$\"\n",
      "features: \"^ExterCond$\"\n",
      "features: \"^ExterQual$\"\n",
      "features: \"^Exterior1st$\"\n",
      "features: \"^Exterior2nd$\"\n",
      "features: \"^Fence$\"\n",
      "features: \"^FireplaceQu$\"\n",
      "features: \"^Fireplaces$\"\n",
      "features: \"^Foundation$\"\n",
      "features: \"^FullBath$\"\n",
      "features: \"^Functional$\"\n",
      "features: \"^GarageArea$\"\n",
      "features: \"^GarageCars$\"\n",
      "features: \"^GarageCond$\"\n",
      "features: \"^GarageFinish$\"\n",
      "features: \"^GarageQual$\"\n",
      "features: \"^GarageType$\"\n",
      "features: \"^GarageYrBlt$\"\n",
      "features: \"^GrLivArea$\"\n",
      "features: \"^HalfBath$\"\n",
      "features: \"^Heating$\"\n",
      "features: \"^HeatingQC$\"\n",
      "features: \"^HouseStyle$\"\n",
      "features: \"^Id$\"\n",
      "features: \"^KitchenAbvGr$\"\n",
      "features: \"^KitchenQual$\"\n",
      "features: \"^LandContour$\"\n",
      "features: \"^LandSlope$\"\n",
      "features: \"^LotArea$\"\n",
      "features: \"^LotConfig$\"\n",
      "features: \"^LotFrontage$\"\n",
      "features: \"^LotShape$\"\n",
      "features: \"^LowQualFinSF$\"\n",
      "features: \"^MSSubClass$\"\n",
      "features: \"^MSZoning$\"\n",
      "features: \"^MasVnrArea$\"\n",
      "features: \"^MasVnrType$\"\n",
      "features: \"^MiscFeature$\"\n",
      "features: \"^MiscVal$\"\n",
      "features: \"^MoSold$\"\n",
      "features: \"^Neighborhood$\"\n",
      "features: \"^OpenPorchSF$\"\n",
      "features: \"^OverallCond$\"\n",
      "features: \"^OverallQual$\"\n",
      "features: \"^PavedDrive$\"\n",
      "features: \"^PoolArea$\"\n",
      "features: \"^PoolQC$\"\n",
      "features: \"^RoofMatl$\"\n",
      "features: \"^RoofStyle$\"\n",
      "features: \"^SaleCondition$\"\n",
      "features: \"^SaleType$\"\n",
      "features: \"^ScreenPorch$\"\n",
      "features: \"^Street$\"\n",
      "features: \"^TotRmsAbvGrd$\"\n",
      "features: \"^TotalBsmtSF$\"\n",
      "features: \"^Utilities$\"\n",
      "features: \"^WoodDeckSF$\"\n",
      "features: \"^YearBuilt$\"\n",
      "features: \"^YearRemodAdd$\"\n",
      "features: \"^YrSold$\"\n",
      "label: \"^__LABEL$\"\n",
      "task: REGRESSION\n",
      "random_seed: 123456\n",
      "metadata {\n",
      "  framework: \"TF Keras\"\n",
      "}\n",
      "pure_serving_model: false\n",
      "[yggdrasil_decision_forests.model.gradient_boosted_trees.proto.gradient_boosted_trees_config] {\n",
      "  num_trees: 300\n",
      "  decision_tree {\n",
      "    max_depth: 6\n",
      "    min_examples: 5\n",
      "    in_split_min_examples_check: true\n",
      "    keep_non_leaf_label_distribution: true\n",
      "    num_candidate_attributes: -1\n",
      "    missing_value_policy: GLOBAL_IMPUTATION\n",
      "    allow_na_conditions: false\n",
      "    categorical_set_greedy_forward {\n",
      "      sampling: 0.1\n",
      "      max_num_items: -1\n",
      "      min_item_frequency: 1\n",
      "    }\n",
      "    growing_strategy_local {\n",
      "    }\n",
      "    categorical {\n",
      "      cart {\n",
      "      }\n",
      "    }\n",
      "    axis_aligned_split {\n",
      "    }\n",
      "    internal {\n",
      "      sorting_strategy: PRESORTED\n",
      "    }\n",
      "    uplift {\n",
      "      min_examples_in_treatment: 5\n",
      "      split_score: KULLBACK_LEIBLER\n",
      "    }\n",
      "  }\n",
      "  shrinkage: 0.1\n",
      "  loss: DEFAULT\n",
      "  validation_set_ratio: 0.1\n",
      "  validation_interval_in_trees: 1\n",
      "  early_stopping: VALIDATION_LOSS_INCREASE\n",
      "  early_stopping_num_trees_look_ahead: 30\n",
      "  l2_regularization: 0\n",
      "  lambda_loss: 1\n",
      "  mart {\n",
      "  }\n",
      "  adapt_subsample_for_maximum_training_duration: false\n",
      "  l1_regularization: 0\n",
      "  use_hessian_gain: false\n",
      "  l2_regularization_categorical: 1\n",
      "  xe_ndcg {\n",
      "    ndcg_truncation: 5\n",
      "  }\n",
      "  stochastic_gradient_boosting {\n",
      "    ratio: 1\n",
      "  }\n",
      "  apply_link_function: true\n",
      "  compute_permutation_variable_importance: false\n",
      "  early_stopping_initial_iteration: 10\n",
      "}\n",
      "\n",
      "I0000 00:00:1735665974.329612 32980817 kernel.cc:834] Deployment config:\n",
      "cache_path: \"/var/folders/dw/bq4phr0s4yz1_3vy2_gppjcm0000gp/T/tmpr1zqwhjm/working_cache\"\n",
      "num_threads: 10\n",
      "try_resume_training: true\n",
      "\n",
      "I0000 00:00:1735665974.329678 33084703 kernel.cc:895] Train model\n",
      "2024-12-31 12:26:14.329948: I external/ydf/yggdrasil_decision_forests/learner/gradient_boosted_trees/gradient_boosted_trees.cc:575] Default loss set to SQUARED_ERROR\n",
      "2024-12-31 12:26:14.329955: I external/ydf/yggdrasil_decision_forests/learner/gradient_boosted_trees/gradient_boosted_trees.cc:1188] Training gradient boosted tree on 1165 example(s) and 80 feature(s).\n",
      "2024-12-31 12:26:14.330488: I external/ydf/yggdrasil_decision_forests/learner/gradient_boosted_trees/gradient_boosted_trees.cc:1228] 1078 examples used for training and 87 examples used for validation\n",
      "2024-12-31 12:26:14.347135: I external/ydf/yggdrasil_decision_forests/learner/gradient_boosted_trees/gradient_boosted_trees.cc:1603] \tnum-trees:1 train-loss:0.363434 train-rmse:0.363434 valid-loss:0.382528 valid-rmse:0.382528\n",
      "2024-12-31 12:26:14.821893: I external/ydf/yggdrasil_decision_forests/learner/gradient_boosted_trees/gradient_boosted_trees.cc:1605] \tnum-trees:36 train-loss:0.062502 train-rmse:0.062502 valid-loss:0.157266 valid-rmse:0.157266\n"
     ]
    },
    {
     "name": "stdout",
     "output_type": "stream",
     "text": [
      "Model trained in 0:00:00.945945\n",
      "Compiling model...\n"
     ]
    },
    {
     "name": "stderr",
     "output_type": "stream",
     "text": [
      "I0000 00:00:1735665975.245539 33084703 early_stopping.cc:54] Early stop of the training because the validation loss does not decrease anymore. Best valid-loss: 0.155743\n",
      "2024-12-31 12:26:15.245570: I external/ydf/yggdrasil_decision_forests/learner/gradient_boosted_trees/gradient_boosted_trees.cc:1640] Create final snapshot of the model at iteration 76\n",
      "2024-12-31 12:26:15.247460: I external/ydf/yggdrasil_decision_forests/learner/gradient_boosted_trees/gradient_boosted_trees.cc:277] Truncates the model to 47 tree(s) i.e. 47  iteration(s).\n",
      "2024-12-31 12:26:15.247544: I external/ydf/yggdrasil_decision_forests/learner/gradient_boosted_trees/gradient_boosted_trees.cc:339] Final model num-trees:47 valid-loss:0.155743 valid-rmse:0.155743\n",
      "I0000 00:00:1735665975.248243 33084703 kernel.cc:926] Export model in log directory: /var/folders/dw/bq4phr0s4yz1_3vy2_gppjcm0000gp/T/tmpr1zqwhjm with prefix caaf8148937b42d4\n",
      "I0000 00:00:1735665975.249595 33084703 kernel.cc:944] Save model in resources\n",
      "I0000 00:00:1735665975.250368 32980817 abstract_model.cc:914] Model self evaluation:\n",
      "Number of predictions (with weights): 1\n",
      "Task: REGRESSION\n",
      "Loss (SQUARED_ERROR): 0.155743\n",
      "\n",
      "RMSE: 0.394643\n",
      "Default RMSE: : 0\n",
      "\n",
      "2024-12-31 12:26:15.268554: I tensorflow_decision_forests/tensorflow/ops/inference/kernel.cc:1206] Loading model from path /var/folders/dw/bq4phr0s4yz1_3vy2_gppjcm0000gp/T/tmpr1zqwhjm/model/ with prefix caaf8148937b42d4\n",
      "I0000 00:00:1735665975.271712 32980817 abstract_model.cc:1404] Engine \"GradientBoostedTreesQuickScorerExtended\" built\n",
      "2024-12-31 12:26:15.271728: I tensorflow_decision_forests/tensorflow/ops/inference/kernel.cc:1035] Use fast generic engine\n"
     ]
    },
    {
     "name": "stdout",
     "output_type": "stream",
     "text": [
      "Model compiled.\n",
      "Model training complete.\n"
     ]
    }
   ],
   "source": [
    "# Initialize and train Gradient Boosted Trees Regression model\n",
    "model_gb_regressor = tfdf.keras.GradientBoostedTreesModel(task=tfdf.keras.Task.REGRESSION)\n",
    "model_gb_regressor.fit(train_ds)\n",
    "print(\"Model training complete.\")"
   ]
  },
  {
   "cell_type": "code",
   "execution_count": 68,
   "id": "27a411a2-4a98-4c61-b93d-f30a8550183c",
   "metadata": {},
   "outputs": [
    {
     "name": "stdout",
     "output_type": "stream",
     "text": [
      "1/1 [==============================] - 0s 93ms/step\n"
     ]
    }
   ],
   "source": [
    "# Make predictions on test dataset\n",
    "predictions_gb_log = model_gb_regressor.predict(test_ds)\n",
    "\n",
    "# Reverse log transformation for predictions\n",
    "y_pred_gb = np.exp(predictions_gb_log)\n",
    "\n",
    "# Reverse the log transformation for true variable\n",
    "y_true_gb = np.exp(y_test)"
   ]
  },
  {
   "cell_type": "code",
   "execution_count": 69,
   "id": "aab04474-f9d1-4b53-bd18-16e8d3d47356",
   "metadata": {},
   "outputs": [
    {
     "name": "stdout",
     "output_type": "stream",
     "text": [
      "Root Mean Squared Error (RMSE): 27005.18\n"
     ]
    }
   ],
   "source": [
    "# Calculate RMSE and evaluate model performance\n",
    "rmse_gb = np.sqrt(mean_squared_error(y_true_gb, y_pred_gb))\n",
    "print(f\"Root Mean Squared Error (RMSE): {rmse_gb:.2f}\")"
   ]
  },
  {
   "cell_type": "code",
   "execution_count": null,
   "id": "aea9f9c7",
   "metadata": {},
   "outputs": [],
   "source": [
    "#Cart model"
   ]
  },
  {
   "cell_type": "code",
   "execution_count": null,
   "id": "c4a80b85",
   "metadata": {},
   "outputs": [],
   "source": [
    "#train model\n",
    "model_cm_regression = tfdf.keras.CartModel(task=tfdf.keras.Task.REGRESSION)\n",
    "\n",
    "model_cm_regression.fit(train_ds)"
   ]
  },
  {
   "cell_type": "code",
   "execution_count": null,
   "id": "7618be9c",
   "metadata": {},
   "outputs": [],
   "source": [
    "# Make predictions on the same dataset (or test set)\n",
    "predictions_log_cm = model_cm_regression.predict(train_ds)\n",
    "\n",
    "# Reverse the log transformation (use np.exp to get the original scale)\n",
    "predictions_original_scale_cm = np.exp(predictions_log_cm)\n"
   ]
  },
  {
   "cell_type": "code",
   "execution_count": null,
   "id": "28eaba2b",
   "metadata": {},
   "outputs": [],
   "source": [
    "rms = mean_squared_error(y_true, predictions_original_scale_cm, squared=False)\n",
    "rms"
   ]
  },
  {
   "cell_type": "code",
   "execution_count": null,
   "id": "9bd71fe7",
   "metadata": {},
   "outputs": [],
   "source": []
  },
  {
   "cell_type": "code",
   "execution_count": null,
   "id": "7df3139a",
   "metadata": {},
   "outputs": [],
   "source": [
    "#basic RF"
   ]
  },
  {
   "cell_type": "code",
   "execution_count": null,
   "id": "1b307ba0",
   "metadata": {},
   "outputs": [],
   "source": [
    "regressor = RandomForestRegressor(n_estimators=100, random_state=0, oob_score=True)\n",
    "regressor.fit(X_train_one_hot, y_train)"
   ]
  },
  {
   "cell_type": "code",
   "execution_count": null,
   "id": "bcc60aec",
   "metadata": {},
   "outputs": [],
   "source": [
    "predictions_rf = regressor.predict(X_test_one_hot)\n",
    "mse = mean_squared_error(np.exp(y_test), np.exp(predictions))\n",
    "print(f'Mean Squared Error: {mse}')"
   ]
  },
  {
   "cell_type": "code",
   "execution_count": null,
   "id": "7b0513b8",
   "metadata": {},
   "outputs": [],
   "source": [
    "    fig,ax = plt.subplots(figsize=(6,6))\n",
    "    ax.set_title('House price predictions',fontsize=20)\n",
    "    ax.set_ylabel('predicted',fontsize=12)\n",
    "    ax.set_xlabel('actual',fontsize=12)\n",
    "    ax.scatter(np.exp(y_test), np.exp(predictions_rf),label='Random Forest')\n",
    "    ax.scatter(y_true, predictions_original_scale_cm,label='Cart model')\n",
    "    ax.scatter(y_true, predictions_original_scale,label='GradientBoostedTreesModel')\n",
    "    ax.scatter(np.exp(y_test), predictions_lm,label='Linear model')\n",
    "    ax.legend()\n"
   ]
  },
  {
   "cell_type": "code",
   "execution_count": null,
   "id": "3ccbaff2",
   "metadata": {},
   "outputs": [],
   "source": []
  }
 ],
 "metadata": {
  "kernelspec": {
   "display_name": "Python 3 (ipykernel)",
   "language": "python",
   "name": "python3"
  },
  "language_info": {
   "codemirror_mode": {
    "name": "ipython",
    "version": 3
   },
   "file_extension": ".py",
   "mimetype": "text/x-python",
   "name": "python",
   "nbconvert_exporter": "python",
   "pygments_lexer": "ipython3",
   "version": "3.11.8"
  }
 },
 "nbformat": 4,
 "nbformat_minor": 5
}
