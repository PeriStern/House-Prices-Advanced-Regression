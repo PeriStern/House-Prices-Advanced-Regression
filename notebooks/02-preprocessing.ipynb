{
 "cells": [
  {
   "cell_type": "code",
   "execution_count": null,
   "id": "96ac6689-be9b-421b-945c-e985b805981c",
   "metadata": {},
   "outputs": [],
   "source": [
    "import pandas as pd\n",
    "import numpy as np\n",
    "from sklearn.model_selection import train_test_split "
   ]
  },
  {
   "cell_type": "code",
   "execution_count": null,
   "id": "2729d338-fca5-41d7-94a7-8f1e74911d29",
   "metadata": {},
   "outputs": [],
   "source": [
    "#load the data\n",
    "train = pd.read_csv('../data/raw/train.csv')"
   ]
  },
  {
   "cell_type": "code",
   "execution_count": null,
   "id": "fab0af63-bd97-4afb-b122-0349f7de2b81",
   "metadata": {},
   "outputs": [],
   "source": [
    "#na cleanup"
   ]
  },
  {
   "cell_type": "code",
   "execution_count": null,
   "id": "d81e01dd-ab61-47c3-9e74-ab9d45e8709f",
   "metadata": {},
   "outputs": [],
   "source": [
    "#basements\n",
    "basements=train[['BsmtQual','BsmtCond','BsmtExposure','BsmtFinType1','BsmtFinType2']]\n",
    "basements[basements.isnull().any(axis=1)]\n",
    "#index 948 and 332 are the problem. drop those rows"
   ]
  },
  {
   "cell_type": "code",
   "execution_count": null,
   "id": "55384962-8fb1-44a2-ad0e-1a8897a7abe6",
   "metadata": {},
   "outputs": [],
   "source": [
    "#electrical\n",
    "electrical=train['Electrical']\n",
    "electrical[electrical.isnull()]"
   ]
  },
  {
   "cell_type": "code",
   "execution_count": null,
   "id": "22573ec4-7663-4954-b230-a1d2c70b7a93",
   "metadata": {},
   "outputs": [],
   "source": [
    "#replace LotFrontage with median of that column\n",
    "train['LotFrontage'].median()\n",
    "train['LotFrontage']=train['LotFrontage'].fillna(69).astype(int)"
   ]
  },
  {
   "cell_type": "code",
   "execution_count": null,
   "id": "a33ae084-0520-40ca-bd25-47e08f5a0814",
   "metadata": {},
   "outputs": [],
   "source": [
    "#drop all rows with problems\n",
    "train_processed = train.drop([train.index[948], train.index[332],train.index[1379]])"
   ]
  },
  {
   "cell_type": "code",
   "execution_count": null,
   "id": "08cacef5-c86f-4240-be21-2335c42df308",
   "metadata": {},
   "outputs": [],
   "source": [
    "#change all nas to 'none'\n",
    "train_processed.fillna('None', inplace=True)"
   ]
  },
  {
   "cell_type": "code",
   "execution_count": null,
   "id": "7d315cc2-6d64-4c0c-8625-757f17d2ba9f",
   "metadata": {},
   "outputs": [],
   "source": [
    "#normalize dependant variable to minimize outlier effect\n",
    "train_processed['SalePrice'] = np.log(train_processed['SalePrice'])"
   ]
  },
  {
   "cell_type": "code",
   "execution_count": null,
   "id": "e063982b-48b6-4db9-9c1d-8d68013a6ecf",
   "metadata": {},
   "outputs": [],
   "source": [
    "#split data into train test\n",
    "train_data,test_data = train_test_split(train_processed,random_state=104,test_size=0.2,shuffle=True) "
   ]
  },
  {
   "cell_type": "code",
   "execution_count": null,
   "id": "58730af3-ff78-4a0c-a53d-4d5ce87afff5",
   "metadata": {},
   "outputs": [],
   "source": [
    "# Save data to 'data/processed/' folder\n",
    "train_data.to_csv('../data/processed/train_data.csv', index=False)\n",
    "test_data.to_csv('../data/processed/test_data.csv', index=False) "
   ]
  }
 ],
 "metadata": {
  "kernelspec": {
   "display_name": "Python 3 (ipykernel)",
   "language": "python",
   "name": "python3"
  },
  "language_info": {
   "codemirror_mode": {
    "name": "ipython",
    "version": 3
   },
   "file_extension": ".py",
   "mimetype": "text/x-python",
   "name": "python",
   "nbconvert_exporter": "python",
   "pygments_lexer": "ipython3",
   "version": "3.11.8"
  }
 },
 "nbformat": 4,
 "nbformat_minor": 5
}
